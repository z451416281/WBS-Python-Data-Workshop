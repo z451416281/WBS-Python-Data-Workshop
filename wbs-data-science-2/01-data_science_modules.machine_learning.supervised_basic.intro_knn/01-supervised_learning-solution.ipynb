{
 "cells": [
  {
   "cell_type": "markdown",
   "metadata": {},
   "source": [
    "# Supervised Learning"
   ]
  },
  {
   "cell_type": "code",
   "execution_count": 1,
   "metadata": {},
   "outputs": [],
   "source": [
    "import numpy as np\n",
    "import pandas as pd\n",
    "import matplotlib.pyplot as plt\n",
    "import seaborn as sns\n",
    "%matplotlib inline"
   ]
  },
  {
   "cell_type": "markdown",
   "metadata": {},
   "source": [
    "## Part 1: Preparing the data\n",
    "\n",
    "Start by loading the data `data/online_retail.csv`, don't forget to use the column `CustomerID` as a row index."
   ]
  },
  {
   "cell_type": "code",
   "execution_count": 2,
   "metadata": {},
   "outputs": [
    {
     "data": {
      "text/html": [
       "<div>\n",
       "<style scoped>\n",
       "    .dataframe tbody tr th:only-of-type {\n",
       "        vertical-align: middle;\n",
       "    }\n",
       "\n",
       "    .dataframe tbody tr th {\n",
       "        vertical-align: top;\n",
       "    }\n",
       "\n",
       "    .dataframe thead th {\n",
       "        text-align: right;\n",
       "    }\n",
       "</style>\n",
       "<table border=\"1\" class=\"dataframe\">\n",
       "  <thead>\n",
       "    <tr style=\"text-align: right;\">\n",
       "      <th></th>\n",
       "      <th>Austria</th>\n",
       "      <th>Belgium</th>\n",
       "      <th>Finland</th>\n",
       "      <th>France</th>\n",
       "      <th>Germany</th>\n",
       "      <th>Italy</th>\n",
       "      <th>Norway</th>\n",
       "      <th>Portugal</th>\n",
       "      <th>Spain</th>\n",
       "      <th>Switzerland</th>\n",
       "      <th>...</th>\n",
       "      <th>balance</th>\n",
       "      <th>max_spent</th>\n",
       "      <th>mean_spent</th>\n",
       "      <th>min_spent</th>\n",
       "      <th>n_orders</th>\n",
       "      <th>total_items</th>\n",
       "      <th>total_items_returned</th>\n",
       "      <th>total_refunded</th>\n",
       "      <th>total_spent</th>\n",
       "      <th>has_returned</th>\n",
       "    </tr>\n",
       "    <tr>\n",
       "      <th>CustomerID</th>\n",
       "      <th></th>\n",
       "      <th></th>\n",
       "      <th></th>\n",
       "      <th></th>\n",
       "      <th></th>\n",
       "      <th></th>\n",
       "      <th></th>\n",
       "      <th></th>\n",
       "      <th></th>\n",
       "      <th></th>\n",
       "      <th></th>\n",
       "      <th></th>\n",
       "      <th></th>\n",
       "      <th></th>\n",
       "      <th></th>\n",
       "      <th></th>\n",
       "      <th></th>\n",
       "      <th></th>\n",
       "      <th></th>\n",
       "      <th></th>\n",
       "      <th></th>\n",
       "    </tr>\n",
       "  </thead>\n",
       "  <tbody>\n",
       "    <tr>\n",
       "      <th>12348</th>\n",
       "      <td>0</td>\n",
       "      <td>0</td>\n",
       "      <td>1</td>\n",
       "      <td>0</td>\n",
       "      <td>0</td>\n",
       "      <td>0</td>\n",
       "      <td>0</td>\n",
       "      <td>0</td>\n",
       "      <td>0</td>\n",
       "      <td>0</td>\n",
       "      <td>...</td>\n",
       "      <td>0.383285</td>\n",
       "      <td>1.250693</td>\n",
       "      <td>1.431525</td>\n",
       "      <td>0.513598</td>\n",
       "      <td>-0.134499</td>\n",
       "      <td>2.257327</td>\n",
       "      <td>0.177632</td>\n",
       "      <td>0.250957</td>\n",
       "      <td>0.375547</td>\n",
       "      <td>no</td>\n",
       "    </tr>\n",
       "    <tr>\n",
       "      <th>12350</th>\n",
       "      <td>0</td>\n",
       "      <td>0</td>\n",
       "      <td>0</td>\n",
       "      <td>0</td>\n",
       "      <td>0</td>\n",
       "      <td>0</td>\n",
       "      <td>1</td>\n",
       "      <td>0</td>\n",
       "      <td>0</td>\n",
       "      <td>0</td>\n",
       "      <td>...</td>\n",
       "      <td>-0.555081</td>\n",
       "      <td>-0.636253</td>\n",
       "      <td>-0.573046</td>\n",
       "      <td>0.022799</td>\n",
       "      <td>-0.695840</td>\n",
       "      <td>-0.522217</td>\n",
       "      <td>0.177632</td>\n",
       "      <td>0.250957</td>\n",
       "      <td>-0.557665</td>\n",
       "      <td>yes</td>\n",
       "    </tr>\n",
       "    <tr>\n",
       "      <th>12352</th>\n",
       "      <td>0</td>\n",
       "      <td>0</td>\n",
       "      <td>0</td>\n",
       "      <td>0</td>\n",
       "      <td>0</td>\n",
       "      <td>0</td>\n",
       "      <td>1</td>\n",
       "      <td>0</td>\n",
       "      <td>0</td>\n",
       "      <td>0</td>\n",
       "      <td>...</td>\n",
       "      <td>-0.148636</td>\n",
       "      <td>0.097227</td>\n",
       "      <td>-0.374642</td>\n",
       "      <td>-0.760775</td>\n",
       "      <td>0.426842</td>\n",
       "      <td>-0.281712</td>\n",
       "      <td>-1.054751</td>\n",
       "      <td>-1.146316</td>\n",
       "      <td>-0.122088</td>\n",
       "      <td>no</td>\n",
       "    </tr>\n",
       "    <tr>\n",
       "      <th>12354</th>\n",
       "      <td>0</td>\n",
       "      <td>0</td>\n",
       "      <td>0</td>\n",
       "      <td>0</td>\n",
       "      <td>0</td>\n",
       "      <td>0</td>\n",
       "      <td>0</td>\n",
       "      <td>0</td>\n",
       "      <td>1</td>\n",
       "      <td>0</td>\n",
       "      <td>...</td>\n",
       "      <td>-0.349333</td>\n",
       "      <td>0.121654</td>\n",
       "      <td>1.005066</td>\n",
       "      <td>2.112152</td>\n",
       "      <td>-0.695840</td>\n",
       "      <td>-0.383240</td>\n",
       "      <td>0.177632</td>\n",
       "      <td>0.250957</td>\n",
       "      <td>-0.353048</td>\n",
       "      <td>yes</td>\n",
       "    </tr>\n",
       "    <tr>\n",
       "      <th>12356</th>\n",
       "      <td>0</td>\n",
       "      <td>0</td>\n",
       "      <td>0</td>\n",
       "      <td>0</td>\n",
       "      <td>0</td>\n",
       "      <td>0</td>\n",
       "      <td>0</td>\n",
       "      <td>1</td>\n",
       "      <td>0</td>\n",
       "      <td>0</td>\n",
       "      <td>...</td>\n",
       "      <td>1.103279</td>\n",
       "      <td>3.917886</td>\n",
       "      <td>5.490954</td>\n",
       "      <td>3.525167</td>\n",
       "      <td>-0.415170</td>\n",
       "      <td>1.249951</td>\n",
       "      <td>0.177632</td>\n",
       "      <td>0.250957</td>\n",
       "      <td>1.091586</td>\n",
       "      <td>no</td>\n",
       "    </tr>\n",
       "  </tbody>\n",
       "</table>\n",
       "<p>5 rows × 21 columns</p>\n",
       "</div>"
      ],
      "text/plain": [
       "            Austria  Belgium  Finland  France  Germany  Italy  Norway  \\\n",
       "CustomerID                                                              \n",
       "12348             0        0        1       0        0      0       0   \n",
       "12350             0        0        0       0        0      0       1   \n",
       "12352             0        0        0       0        0      0       1   \n",
       "12354             0        0        0       0        0      0       0   \n",
       "12356             0        0        0       0        0      0       0   \n",
       "\n",
       "            Portugal  Spain  Switzerland      ...        balance  max_spent  \\\n",
       "CustomerID                                    ...                             \n",
       "12348              0      0            0      ...       0.383285   1.250693   \n",
       "12350              0      0            0      ...      -0.555081  -0.636253   \n",
       "12352              0      0            0      ...      -0.148636   0.097227   \n",
       "12354              0      1            0      ...      -0.349333   0.121654   \n",
       "12356              1      0            0      ...       1.103279   3.917886   \n",
       "\n",
       "            mean_spent  min_spent  n_orders  total_items  \\\n",
       "CustomerID                                                 \n",
       "12348         1.431525   0.513598 -0.134499     2.257327   \n",
       "12350        -0.573046   0.022799 -0.695840    -0.522217   \n",
       "12352        -0.374642  -0.760775  0.426842    -0.281712   \n",
       "12354         1.005066   2.112152 -0.695840    -0.383240   \n",
       "12356         5.490954   3.525167 -0.415170     1.249951   \n",
       "\n",
       "            total_items_returned  total_refunded  total_spent  has_returned  \n",
       "CustomerID                                                                   \n",
       "12348                   0.177632        0.250957     0.375547            no  \n",
       "12350                   0.177632        0.250957    -0.557665           yes  \n",
       "12352                  -1.054751       -1.146316    -0.122088            no  \n",
       "12354                   0.177632        0.250957    -0.353048           yes  \n",
       "12356                   0.177632        0.250957     1.091586            no  \n",
       "\n",
       "[5 rows x 21 columns]"
      ]
     },
     "execution_count": 2,
     "metadata": {},
     "output_type": "execute_result"
    }
   ],
   "source": [
    "customers_ml_data = pd.read_csv(\"data/online_retail.csv\", index_col = \"CustomerID\")\n",
    "customers_ml_data.head()\n"
   ]
  },
  {
   "cell_type": "markdown",
   "metadata": {},
   "source": [
    "### Learning Activity: Get X and y\n",
    "\n",
    "In order to feed the data into our classification models in scikit-learn, we need to split our dataset into the feature matrix `X` and the target vector `y`. Use `loc` or `iloc` to select all columns except the last one (`has_returned`) for `X` and only the last column (`has_returned`) for `y`."
   ]
  },
  {
   "cell_type": "code",
   "execution_count": 3,
   "metadata": {},
   "outputs": [],
   "source": [
    "# get X and y\n",
    "X = customers_ml_data.iloc[:,:-1] #except the last one \"has_returned\"\n",
    "y = customers_ml_data.iloc[:,-1]\n"
   ]
  },
  {
   "cell_type": "code",
   "execution_count": 4,
   "metadata": {},
   "outputs": [
    {
     "name": "stdout",
     "output_type": "stream",
     "text": [
      "X dimensions:  (3126, 20)\n",
      "y dimensions:  (3126,)\n"
     ]
    }
   ],
   "source": [
    "# Check the dimensionality of X and y\n",
    "print (\"X dimensions: \", X.shape)\n",
    "print (\"y dimensions: \", y.shape)\n"
   ]
  },
  {
   "cell_type": "markdown",
   "metadata": {},
   "source": [
    "### Learning Activity - Investigate the y frequencies\n",
    "\n",
    "An important aspect to understand before applying any classification algorithm is how the output labels are distributed. Are they evenly distributed or not? Imbalances in distribution of labels can often lead to poor classification results for the minority class even if the classification results for the majority class are very good.\n",
    "\n",
    "Use `value_counts` on `y` to get the frequency of each value.\n",
    "\n",
    "BONUS: try to call `.plot(kind=\"bar\")` on the array to plot it as a bar plot"
   ]
  },
  {
   "cell_type": "code",
   "execution_count": null,
   "metadata": {},
   "outputs": [],
   "source": [
    "# Calculate the y frequencies\n",
    "y.value_counts()\n",
    "y.value_counts().plot(kind=\"bar\")\n"
   ]
  },
  {
   "cell_type": "markdown",
   "metadata": {},
   "source": [
    "### Learning Activity: Encode categorical values\n",
    "\n",
    "In our current dataset, you can see that the y values are categorical (i.e. they only take one of a discrete set of values) and have a non-numeric representation, `yes` vs. `no`. This can be problematic for scikit-learn and plotting functions in Python, since they assume numerical values, so we need to map the text categories to numerical representations. To do so, you can use the function `.map()` that takes as argument a dictionary in which you can define as a `key` the value to transform and as `value` the thing you want to change it to (check the documentation for more details)."
   ]
  },
  {
   "cell_type": "code",
   "execution_count": null,
   "metadata": {},
   "outputs": [],
   "source": [
    "# Convert the categorical values of y into numbers using map\n",
    "\n",
    "y = y.map({\"yes\": 1, \"no\": 0})\n"
   ]
  },
  {
   "cell_type": "code",
   "execution_count": null,
   "metadata": {},
   "outputs": [],
   "source": [
    "# print the y frequencies now\n",
    "y.value_counts()\n"
   ]
  },
  {
   "cell_type": "markdown",
   "metadata": {},
   "source": [
    "### Learning Activity - Split the data into training and test sets\n",
    "\n",
    "Training and testing a classification model on the same dataset is a methodological mistake: a model that would just repeat the labels of the samples that it has just seen would have a perfect score but would fail to predict anything useful on yet-unseen data (poor generalisation). To use different datasets for training and testing, we need to split the dataset into two disjoint sets: train and test (**Holdout method**) using the `train_test_split` function."
   ]
  },
  {
   "cell_type": "code",
   "execution_count": null,
   "metadata": {},
   "outputs": [],
   "source": [
    "from sklearn.model_selection import train_test_split"
   ]
  },
  {
   "cell_type": "code",
   "execution_count": null,
   "metadata": {},
   "outputs": [],
   "source": [
    "# Split the raw data into training and test sets\n",
    "X_train, X_test, y_train, y_test = train_test_split(X, y, random_state=1)\n"
   ]
  },
  {
   "cell_type": "code",
   "execution_count": null,
   "metadata": {},
   "outputs": [],
   "source": [
    "# Print the dimensionality of the individual splits\n",
    "print (\"X_train dimensions: \", X_train.shape)\n",
    "print (\"y_train dimensions: \", y_train.shape)\n",
    "print (\"X_test dimensions: \", X_test.shape)\n",
    "print (\"y_test dimensions: \", y_test.shape)\n"
   ]
  },
  {
   "cell_type": "markdown",
   "metadata": {},
   "source": [
    "## Part 2: Training a model"
   ]
  },
  {
   "cell_type": "markdown",
   "metadata": {},
   "source": [
    "### Learning Activity - Train, optimise and test a KNN algorithm with scikit-learn\n",
    "\n",
    "To build KNN models using scikit-learn, you will be using the `KNeighborsClassifier` object, which allows you to set the value of K using the `n_neighbors` parameter (http://scikit-learn.org/stable/modules/generated/sklearn.neighbors.KNeighborsClassifier.html). For every classification model built with scikit-learn, we will follow four main steps: \n",
    "\n",
    "1. **Building** the classification model (using either default, pre-defined or optimised parameters), \n",
    "2. **Training** the model, \n",
    "3. **Testing** the model, and \n",
    "4. **Performance evaluation** using various metrics.  \n",
    "<br/>\n",
    "\n",
    "The optimal choice for the value K is highly data-dependent: in general a larger K decreases the effects of noise, but makes the classification boundaries less distinct (risk of underfitting). Rather than trying one-by-one predefined values of K, we can automate this process. The scikit-learn library provides the grid search function `GridSearchCV` (http://scikit-learn.org/stable/modules/generated/sklearn.grid_search.GridSearchCV.html), which allows us to exhaustively search for the optimum combination of parameters by evaluating models trained with a particular algorithm with all provided parameter combinations. Further details and examples on grid search with scikit-learn can be found at http://scikit-learn.org/stable/modules/grid_search.html. You can use the `GridSearchCV` function with the validation technique of your choice (in this example, 10-fold cross-validation has been applied) to search for a parametisation of the KNN algorithm that gives a more optimal model:"
   ]
  },
  {
   "cell_type": "code",
   "execution_count": null,
   "metadata": {},
   "outputs": [],
   "source": [
    "from sklearn.model_selection import GridSearchCV\n",
    "from sklearn.neighbors import KNeighborsClassifier\n",
    "\n",
    "# Create the dictionary of given parameters\n",
    "n_neighb   = np.arange(1, 101, 2)  \n",
    "parameters = [{'n_neighbors': n_neighb}] \n",
    "\n",
    "# The actual grid search can take a bit of time:\n",
    "# Optimise and build the model with GridSearchCV\n",
    "gridCV = GridSearchCV(KNeighborsClassifier(), parameters, cv=10)\n",
    "gridCV.fit(X_train, y_train) \n"
   ]
  },
  {
   "cell_type": "code",
   "execution_count": null,
   "metadata": {},
   "outputs": [],
   "source": [
    "# Report the optimal parameters..\n",
    "bestNeighb = gridCV.best_params_['n_neighbors']\n",
    "print(\"Best parameters: n_neighbours=\", bestNeighb)"
   ]
  },
  {
   "cell_type": "markdown",
   "metadata": {},
   "source": [
    "When evaluating the resulting model it is important to do it on held-out samples that were not seen during the grid search process (X_test). \n",
    "\n",
    "So, we are testing our independent X_test dataset using the optimised model:"
   ]
  },
  {
   "cell_type": "code",
   "execution_count": null,
   "metadata": {},
   "outputs": [],
   "source": [
    "# Build the classifier using the optimal parameters detected by grid search\n",
    "knn = KNeighborsClassifier(n_neighbors=5)\n"
   ]
  },
  {
   "cell_type": "code",
   "execution_count": null,
   "metadata": {},
   "outputs": [],
   "source": [
    "# Fit to the training set...\n",
    "knn.fit(X_train, y_train)\n"
   ]
  },
  {
   "cell_type": "code",
   "execution_count": null,
   "metadata": {},
   "outputs": [],
   "source": [
    "# .. and predict the test data..\n",
    "y_pred = knn.predict(X_test)\n"
   ]
  },
  {
   "cell_type": "code",
   "execution_count": null,
   "metadata": {},
   "outputs": [],
   "source": [
    "from sklearn.metrics import accuracy_score\n",
    "\n",
    "# Report the final overall accuracy\n",
    "print (\"Overall Accuracy:\", round(accuracy_score(y_test, y_pred), 2))\n"
   ]
  },
  {
   "cell_type": "markdown",
   "metadata": {},
   "source": [
    "Check the classification report for your model; you can find the function in `sklearn.metrics`"
   ]
  },
  {
   "cell_type": "code",
   "execution_count": null,
   "metadata": {},
   "outputs": [],
   "source": [
    "from sklearn.metrics import classification_report\n",
    "\n",
    "print(classification_report(y_test, y_pred))"
   ]
  }
 ],
 "metadata": {
  "kernelspec": {
   "display_name": "Python 3",
   "language": "python",
   "name": "python3"
  },
  "language_info": {
   "codemirror_mode": {
    "name": "ipython",
    "version": 3
   },
   "file_extension": ".py",
   "mimetype": "text/x-python",
   "name": "python",
   "nbconvert_exporter": "python",
   "pygments_lexer": "ipython3",
   "version": "3.7.1"
  }
 },
 "nbformat": 4,
 "nbformat_minor": 2
}
