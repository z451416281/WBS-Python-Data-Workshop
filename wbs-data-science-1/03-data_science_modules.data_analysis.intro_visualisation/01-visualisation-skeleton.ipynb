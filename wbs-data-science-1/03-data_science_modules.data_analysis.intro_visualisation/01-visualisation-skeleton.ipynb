{
 "cells": [
  {
   "cell_type": "markdown",
   "metadata": {},
   "source": [
    "# Visualisation"
   ]
  },
  {
   "cell_type": "markdown",
   "metadata": {},
   "source": [
    "## Exploratory Data Analysis and Pre-processing\n",
    "\n",
    "In this module you will learn how to load an online retail dataset in Python and visualise it. \n",
    "\n",
    "You will learn how to plot data which will help you in the future when building models.\n",
    "\n",
    "For this module, you will need to import \n",
    "\n",
    "* `pandas` (as `pd`) [link to documentation](https://pandas.pydata.org/pandas-docs/stable/)\n",
    "* `matplotlib.pyplot` (as `plt`) [link to documentation](https://matplotlib.org/contents.html)\n",
    "* `seaborn` (as `sns`) [link to documentation](https://seaborn.pydata.org)\n",
    "\n",
    "\n",
    "In order to use `matplotlib` in the notebook, you need to have a cell with\n",
    "```python\n",
    "%matplotlib inline\n",
    "```"
   ]
  },
  {
   "cell_type": "code",
   "execution_count": null,
   "metadata": {},
   "outputs": [],
   "source": [
    "# add your code here to load the libraries\n"
   ]
  },
  {
   "cell_type": "markdown",
   "metadata": {},
   "source": [
    "### Loading the dataset\n",
    "\n",
    "\n",
    "Load the dataset `online_retail_customer_data.csv` with `pandas`. Recall that you need to \n",
    "\n",
    "* use the `read_csv()` method from `pandas`\n",
    "* point to the location of the dataset\n",
    "* determine a name under which you want to store the resulting data frame (we suggest the name `customers`)\n",
    "* specify that the `CustomerID` column is the index column using the `index_col` option\n",
    "\n",
    "Use the `head` method to display the first few lines of the dataset (you can specify how many lines)."
   ]
  },
  {
   "cell_type": "code",
   "execution_count": null,
   "metadata": {},
   "outputs": [],
   "source": []
  },
  {
   "cell_type": "markdown",
   "metadata": {},
   "source": [
    "\n",
    "### About the dataset\n",
    "\n",
    "The dataset is based on data from an online retailer selling gifts and is based on a dataset taken from [here](https://archive.ics.uci.edu/ml/datasets/Online+Retail#).\n",
    "\n",
    "We have taken the original data and done some preprocessing (filled in missing elements, removed non-numerical columns) to create a 'profile' for each customer, which includes a number of features such as:\n",
    "\n",
    "* `balance`: Amount of money spent at the store (purchases minus refunds).\n",
    "* `n_orders`: Total number of orders from the online retailer.\n",
    "* `time_between_orders`: Average time (in days) between orders.\n",
    "* `max_spent`: Most amount of money customer spent on a single order."
   ]
  },
  {
   "cell_type": "markdown",
   "metadata": {},
   "source": [
    "### Scaling\n",
    "\n",
    "The different numerical variables may have completely different scales. This can be easily checked with a boxplot. You'll use the `seaborn` wrapper around `matplotlib` that is great for producing clear plots.\n",
    "Have a look [here](https://stanford.edu/~mwaskom/software/seaborn/examples/index.html) for a gallery of plots possible with `seaborn`.\n",
    "\n",
    "* define a figure environment with the `figure()` method of `matplotlib.pyplot` (you can pass a figure size)\n",
    "* use the `boxplot` function of `seaborn` specifying the appropriate dataframe"
   ]
  },
  {
   "cell_type": "code",
   "execution_count": null,
   "metadata": {},
   "outputs": [],
   "source": [
    "# add your code to plot a sns.boxplot() of the customer dataframe\n"
   ]
  },
  {
   "cell_type": "markdown",
   "metadata": {},
   "source": [
    "As we can see, the variables have completely different scales. This can normally be resolved by scaling, but that is beyond the objectives of this module so we will skip it. The current state of the data will do just fine for all of our plotting exercises."
   ]
  },
  {
   "cell_type": "markdown",
   "metadata": {},
   "source": [
    "## Relationship between input features\n",
    "\n",
    "An important tool for the exploratory data analysis step is the **scatter plot**. \n",
    "\n",
    "This plot helps visualise the relationship in-between two input features. It may also give you a first indication of the model to applied. \n",
    "\n",
    "Create a scatter plot of the `n_orders` vs `balance` using the `lmplot` function of `seaborn`. Once you have a grip of this, you should try looking at the scatter plot corresponding to other couples."
   ]
  },
  {
   "cell_type": "code",
   "execution_count": null,
   "metadata": {},
   "outputs": [],
   "source": []
  },
  {
   "cell_type": "markdown",
   "metadata": {},
   "source": [
    "### Grid/scatterplot matrix\n",
    "\n",
    "A scatterplot matrix shows a grid of all scatterplots where each attribute is plotted against all other attributes.\n",
    "This can be applied when there aren't too many variables (otherwise it quickly becomes impractical). \n",
    "\n",
    "You can find further information on how to create a scatterplot matrix with seaborn using the `pairplot()` function [here](https://stanford.edu/~mwaskom/software/seaborn/generated/seaborn.pairplot.html).\n"
   ]
  },
  {
   "cell_type": "code",
   "execution_count": null,
   "metadata": {},
   "outputs": [],
   "source": []
  },
  {
   "cell_type": "markdown",
   "metadata": {},
   "source": [
    "### Correlation matrix and heatmap of correlations between the input features\n",
    "\n",
    "It is often of great interest to investigate whether any of the variables in a multivariate dataset are significantly correlated. \n",
    "As previously shown, the different features (variables) in `customers` are not independent from each other. \n",
    "To quickly identify which features are related and to what degree, it is useful to compute a correlation matrix that shows the correlation coefficient for each pair of variables. \n",
    "You can do this by using the `corr()` function from the `pandas` library:"
   ]
  },
  {
   "cell_type": "code",
   "execution_count": null,
   "metadata": {},
   "outputs": [],
   "source": []
  },
  {
   "cell_type": "markdown",
   "metadata": {},
   "source": [
    "To visualise the degree of correlation between variables, you can use a heatmap (also from `seaborn`, use the `heatmap` method and pass it the correlation matrix calculated in the previous exercise, also set center option to 0). "
   ]
  },
  {
   "cell_type": "code",
   "execution_count": null,
   "metadata": {},
   "outputs": [],
   "source": []
  }
 ],
 "metadata": {
  "kernelspec": {
   "display_name": "Python 3",
   "language": "python",
   "name": "python3"
  },
  "language_info": {
   "codemirror_mode": {
    "name": "ipython",
    "version": 3
   },
   "file_extension": ".py",
   "mimetype": "text/x-python",
   "name": "python",
   "nbconvert_exporter": "python",
   "pygments_lexer": "ipython3",
   "version": "3.7.1"
  }
 },
 "nbformat": 4,
 "nbformat_minor": 1
}
