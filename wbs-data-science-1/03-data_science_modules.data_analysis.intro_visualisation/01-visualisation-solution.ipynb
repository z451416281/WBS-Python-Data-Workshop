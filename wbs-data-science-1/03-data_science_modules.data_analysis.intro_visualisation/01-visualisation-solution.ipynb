{
 "cells": [
  {
   "cell_type": "markdown",
   "metadata": {},
   "source": [
    "# Visualisation"
   ]
  },
  {
   "cell_type": "markdown",
   "metadata": {},
   "source": [
    "## Exploratory Data Analysis and Pre-processing\n",
    "\n",
    "In this module you will learn how to load an online retail dataset in Python and visualise it. \n",
    "\n",
    "You will learn how to plot data which will help you in the future when building models.\n",
    "\n",
    "For this module, you will need to import \n",
    "\n",
    "* `pandas` (as `pd`) [link to documentation](https://pandas.pydata.org/pandas-docs/stable/)\n",
    "* `matplotlib.pyplot` (as `plt`) [link to documentation](https://matplotlib.org/contents.html)\n",
    "* `seaborn` (as `sns`) [link to documentation](https://seaborn.pydata.org)\n",
    "\n",
    "\n",
    "In order to use `matplotlib` in the notebook, you need to have a cell with\n",
    "```python\n",
    "%matplotlib inline\n",
    "```"
   ]
  },
  {
   "cell_type": "code",
   "execution_count": 1,
   "metadata": {},
   "outputs": [],
   "source": [
    "# add your code here to load the libraries\n",
    "import pandas as pd\n",
    "\n",
    "import seaborn as sns\n",
    "\n",
    "import matplotlib.pyplot as plt\n",
    "%matplotlib inline\n"
   ]
  },
  {
   "cell_type": "markdown",
   "metadata": {},
   "source": [
    "### Loading the dataset\n",
    "\n",
    "\n",
    "Load the dataset `online_retail_customer_data.csv` with `pandas`. Recall that you need to \n",
    "\n",
    "* use the `read_csv()` method from `pandas`\n",
    "* point to the location of the dataset\n",
    "* determine a name under which you want to store the resulting data frame (we suggest the name `customers`)\n",
    "* specify that the `CustomerID` column is the index column using the `index_col` option\n",
    "\n",
    "Use the `head` method to display the first few lines of the dataset (you can specify how many lines)."
   ]
  },
  {
   "cell_type": "code",
   "execution_count": 2,
   "metadata": {},
   "outputs": [
    {
     "data": {
      "text/html": [
       "<div>\n",
       "<style scoped>\n",
       "    .dataframe tbody tr th:only-of-type {\n",
       "        vertical-align: middle;\n",
       "    }\n",
       "\n",
       "    .dataframe tbody tr th {\n",
       "        vertical-align: top;\n",
       "    }\n",
       "\n",
       "    .dataframe thead th {\n",
       "        text-align: right;\n",
       "    }\n",
       "</style>\n",
       "<table border=\"1\" class=\"dataframe\">\n",
       "  <thead>\n",
       "    <tr style=\"text-align: right;\">\n",
       "      <th></th>\n",
       "      <th>balance</th>\n",
       "      <th>max_spent</th>\n",
       "      <th>mean_spent</th>\n",
       "      <th>min_spent</th>\n",
       "      <th>n_orders</th>\n",
       "      <th>time_between_orders</th>\n",
       "      <th>total_items</th>\n",
       "      <th>total_items_returned</th>\n",
       "      <th>total_refunded</th>\n",
       "      <th>total_spent</th>\n",
       "    </tr>\n",
       "    <tr>\n",
       "      <th>CustomerID</th>\n",
       "      <th></th>\n",
       "      <th></th>\n",
       "      <th></th>\n",
       "      <th></th>\n",
       "      <th></th>\n",
       "      <th></th>\n",
       "      <th></th>\n",
       "      <th></th>\n",
       "      <th></th>\n",
       "      <th></th>\n",
       "    </tr>\n",
       "  </thead>\n",
       "  <tbody>\n",
       "    <tr>\n",
       "      <th>12346</th>\n",
       "      <td>0.00</td>\n",
       "      <td>77183.6</td>\n",
       "      <td>38591.800000</td>\n",
       "      <td>0.0</td>\n",
       "      <td>2.0</td>\n",
       "      <td>365.000000</td>\n",
       "      <td>74215.0</td>\n",
       "      <td>-74215.0</td>\n",
       "      <td>-77183.60</td>\n",
       "      <td>77183.60</td>\n",
       "    </tr>\n",
       "    <tr>\n",
       "      <th>12348</th>\n",
       "      <td>3874.60</td>\n",
       "      <td>2248.8</td>\n",
       "      <td>1291.533333</td>\n",
       "      <td>478.8</td>\n",
       "      <td>3.0</td>\n",
       "      <td>54.500000</td>\n",
       "      <td>6876.0</td>\n",
       "      <td>0.0</td>\n",
       "      <td>0.00</td>\n",
       "      <td>3874.60</td>\n",
       "    </tr>\n",
       "    <tr>\n",
       "      <th>12350</th>\n",
       "      <td>294.40</td>\n",
       "      <td>294.4</td>\n",
       "      <td>294.400000</td>\n",
       "      <td>294.4</td>\n",
       "      <td>1.0</td>\n",
       "      <td>365.000000</td>\n",
       "      <td>196.0</td>\n",
       "      <td>0.0</td>\n",
       "      <td>0.00</td>\n",
       "      <td>294.40</td>\n",
       "    </tr>\n",
       "    <tr>\n",
       "      <th>12352</th>\n",
       "      <td>1845.13</td>\n",
       "      <td>1054.1</td>\n",
       "      <td>393.092000</td>\n",
       "      <td>0.0</td>\n",
       "      <td>5.0</td>\n",
       "      <td>11.333333</td>\n",
       "      <td>774.0</td>\n",
       "      <td>-63.0</td>\n",
       "      <td>-120.33</td>\n",
       "      <td>1965.46</td>\n",
       "    </tr>\n",
       "    <tr>\n",
       "      <th>12354</th>\n",
       "      <td>1079.40</td>\n",
       "      <td>1079.4</td>\n",
       "      <td>1079.400000</td>\n",
       "      <td>1079.4</td>\n",
       "      <td>1.0</td>\n",
       "      <td>365.000000</td>\n",
       "      <td>530.0</td>\n",
       "      <td>0.0</td>\n",
       "      <td>0.00</td>\n",
       "      <td>1079.40</td>\n",
       "    </tr>\n",
       "  </tbody>\n",
       "</table>\n",
       "</div>"
      ],
      "text/plain": [
       "            balance  max_spent    mean_spent  min_spent  n_orders  \\\n",
       "CustomerID                                                          \n",
       "12346          0.00    77183.6  38591.800000        0.0       2.0   \n",
       "12348       3874.60     2248.8   1291.533333      478.8       3.0   \n",
       "12350        294.40      294.4    294.400000      294.4       1.0   \n",
       "12352       1845.13     1054.1    393.092000        0.0       5.0   \n",
       "12354       1079.40     1079.4   1079.400000     1079.4       1.0   \n",
       "\n",
       "            time_between_orders  total_items  total_items_returned  \\\n",
       "CustomerID                                                           \n",
       "12346                365.000000      74215.0              -74215.0   \n",
       "12348                 54.500000       6876.0                   0.0   \n",
       "12350                365.000000        196.0                   0.0   \n",
       "12352                 11.333333        774.0                 -63.0   \n",
       "12354                365.000000        530.0                   0.0   \n",
       "\n",
       "            total_refunded  total_spent  \n",
       "CustomerID                               \n",
       "12346            -77183.60     77183.60  \n",
       "12348                 0.00      3874.60  \n",
       "12350                 0.00       294.40  \n",
       "12352              -120.33      1965.46  \n",
       "12354                 0.00      1079.40  "
      ]
     },
     "execution_count": 2,
     "metadata": {},
     "output_type": "execute_result"
    }
   ],
   "source": [
    "customers = pd.read_csv('data/online_retail_customer_data.csv',\n",
    "                        index_col='CustomerID')\n",
    "\n",
    "customers.head()\n"
   ]
  },
  {
   "cell_type": "markdown",
   "metadata": {},
   "source": [
    "\n",
    "### About the dataset\n",
    "\n",
    "The dataset is based on data from an online retailer selling gifts and is based on a dataset taken from [here](https://archive.ics.uci.edu/ml/datasets/Online+Retail#).\n",
    "\n",
    "We have taken the original data and done some preprocessing (filled in missing elements, removed non-numerical columns) to create a 'profile' for each customer, which includes a number of features such as:\n",
    "\n",
    "* `balance`: Amount of money spent at the store (purchases minus refunds).\n",
    "* `n_orders`: Total number of orders from the online retailer.\n",
    "* `time_between_orders`: Average time (in days) between orders.\n",
    "* `max_spent`: Most amount of money customer spent on a single order."
   ]
  },
  {
   "cell_type": "markdown",
   "metadata": {},
   "source": [
    "### Scaling\n",
    "\n",
    "The different numerical variables may have completely different scales. This can be easily checked with a boxplot. You'll use the `seaborn` wrapper around `matplotlib` that is great for producing clear plots.\n",
    "Have a look [here](https://stanford.edu/~mwaskom/software/seaborn/examples/index.html) for a gallery of plots possible with `seaborn`.\n",
    "\n",
    "* define a figure environment with the `figure()` method of `matplotlib.pyplot` (you can pass a figure size)\n",
    "* use the `boxplot` function of `seaborn` specifying the appropriate dataframe"
   ]
  },
  {
   "cell_type": "code",
   "execution_count": 3,
   "metadata": {},
   "outputs": [
    {
     "data": {
      "text/plain": [
       "<matplotlib.axes._subplots.AxesSubplot at 0x1e2a5349240>"
      ]
     },
     "execution_count": 3,
     "metadata": {},
     "output_type": "execute_result"
    },
    {
     "data": {
      "image/png": "[encoded data removed]",
      "text/plain": [
       "<Figure size 1224x504 with 1 Axes>"
      ]
     },
     "metadata": {
      "needs_background": "light"
     },
     "output_type": "display_data"
    }
   ],
   "source": [
    "# add your code to plot a sns.boxplot() of the customer dataframe\n",
    "plt.figure(figsize=(17,7))\n",
    "\n",
    "sns.boxplot(data=customers)\n"
   ]
  },
  {
   "cell_type": "markdown",
   "metadata": {},
   "source": [
    "As we can see, the variables have completely different scales. This can normally be resolved by scaling, but that is beyond the objectives of this module so we will skip it. The current state of the data will do just fine for all of our plotting exercises."
   ]
  },
  {
   "cell_type": "markdown",
   "metadata": {},
   "source": [
    "## Relationship between input features\n",
    "\n",
    "An important tool for the exploratory data analysis step is the **scatter plot**. \n",
    "\n",
    "This plot helps visualise the relationship in-between two input features. It may also give you a first indication of the model to applied. \n",
    "\n",
    "Create a scatter plot of the `n_orders` vs `balance` using the `lmplot` function of `seaborn`. Once you have a grip of this, you should try looking at the scatter plot corresponding to other couples."
   ]
  },
  {
   "cell_type": "code",
   "execution_count": 4,
   "metadata": {},
   "outputs": [
    {
     "name": "stderr",
     "output_type": "stream",
     "text": [
      "E:\\Anaconda\\lib\\site-packages\\scipy\\stats\\stats.py:1713: FutureWarning: Using a non-tuple sequence for multidimensional indexing is deprecated; use `arr[tuple(seq)]` instead of `arr[seq]`. In the future this will be interpreted as an array index, `arr[np.array(seq)]`, which will result either in an error or a different result.\n",
      "  return np.add.reduce(sorted[indexer] * weights, axis=axis) / sumval\n"
     ]
    },
    {
     "data": {
      "text/plain": [
       "<seaborn.axisgrid.FacetGrid at 0x1e2a5446518>"
      ]
     },
     "execution_count": 4,
     "metadata": {},
     "output_type": "execute_result"
    },
    {
     "data": {
      "image/png": "[encoded data removed]",
      "text/plain": [
       "<Figure size 360x360 with 1 Axes>"
      ]
     },
     "metadata": {
      "needs_background": "light"
     },
     "output_type": "display_data"
    }
   ],
   "source": [
    "sns.lmplot('n_orders', 'balance', customers)"
   ]
  },
  {
   "cell_type": "markdown",
   "metadata": {},
   "source": [
    "### Grid/scatterplot matrix\n",
    "\n",
    "A scatterplot matrix shows a grid of all scatterplots where each attribute is plotted against all other attributes.\n",
    "This can be applied when there aren't too many variables (otherwise it quickly becomes impractical). \n",
    "\n",
    "You can find further information on how to create a scatterplot matrix with seaborn using the `pairplot()` function [here](https://stanford.edu/~mwaskom/software/seaborn/generated/seaborn.pairplot.html).\n"
   ]
  },
  {
   "cell_type": "code",
   "execution_count": 6,
   "metadata": {},
   "outputs": [
    {
     "data": {
      "text/plain": [
       "<seaborn.axisgrid.PairGrid at 0x1e2aa229160>"
      ]
     },
     "execution_count": 6,
     "metadata": {},
     "output_type": "execute_result"
    },
    {
     "data": {
      "image/png": "[encoded data removed]",
      "text/plain": [
       "<Figure size 540x540 with 12 Axes>"
      ]
     },
     "metadata": {
      "needs_background": "light"
     },
     "output_type": "display_data"
    }
   ],
   "source": [
    "sns.pairplot(customers.loc[:,[\"balance\", \"max_spent\", \"n_orders\"]])\n"
   ]
  },
  {
   "cell_type": "markdown",
   "metadata": {},
   "source": [
    "### Correlation matrix and heatmap of correlations between the input features\n",
    "\n",
    "It is often of great interest to investigate whether any of the variables in a multivariate dataset are significantly correlated. \n",
    "As previously shown, the different features (variables) in `customers` are not independent from each other. \n",
    "To quickly identify which features are related and to what degree, it is useful to compute a correlation matrix that shows the correlation coefficient for each pair of variables. \n",
    "You can do this by using the `corr()` function from the `pandas` library:"
   ]
  },
  {
   "cell_type": "code",
   "execution_count": 7,
   "metadata": {},
   "outputs": [
    {
     "data": {
      "text/html": [
       "<div>\n",
       "<style scoped>\n",
       "    .dataframe tbody tr th:only-of-type {\n",
       "        vertical-align: middle;\n",
       "    }\n",
       "\n",
       "    .dataframe tbody tr th {\n",
       "        vertical-align: top;\n",
       "    }\n",
       "\n",
       "    .dataframe thead th {\n",
       "        text-align: right;\n",
       "    }\n",
       "</style>\n",
       "<table border=\"1\" class=\"dataframe\">\n",
       "  <thead>\n",
       "    <tr style=\"text-align: right;\">\n",
       "      <th></th>\n",
       "      <th>balance</th>\n",
       "      <th>max_spent</th>\n",
       "      <th>mean_spent</th>\n",
       "      <th>min_spent</th>\n",
       "      <th>n_orders</th>\n",
       "      <th>time_between_orders</th>\n",
       "      <th>total_items</th>\n",
       "      <th>total_items_returned</th>\n",
       "      <th>total_refunded</th>\n",
       "      <th>total_spent</th>\n",
       "    </tr>\n",
       "  </thead>\n",
       "  <tbody>\n",
       "    <tr>\n",
       "      <th>balance</th>\n",
       "      <td>1.000000</td>\n",
       "      <td>0.691267</td>\n",
       "      <td>0.457883</td>\n",
       "      <td>-0.015926</td>\n",
       "      <td>0.569494</td>\n",
       "      <td>-0.246144</td>\n",
       "      <td>0.851517</td>\n",
       "      <td>-0.026760</td>\n",
       "      <td>-0.041862</td>\n",
       "      <td>0.993473</td>\n",
       "    </tr>\n",
       "    <tr>\n",
       "      <th>max_spent</th>\n",
       "      <td>0.691267</td>\n",
       "      <td>1.000000</td>\n",
       "      <td>0.855598</td>\n",
       "      <td>0.123699</td>\n",
       "      <td>0.303588</td>\n",
       "      <td>-0.205007</td>\n",
       "      <td>0.679515</td>\n",
       "      <td>-0.516829</td>\n",
       "      <td>-0.527861</td>\n",
       "      <td>0.743715</td>\n",
       "    </tr>\n",
       "    <tr>\n",
       "      <th>mean_spent</th>\n",
       "      <td>0.457883</td>\n",
       "      <td>0.855598</td>\n",
       "      <td>1.000000</td>\n",
       "      <td>0.458817</td>\n",
       "      <td>0.120991</td>\n",
       "      <td>-0.120127</td>\n",
       "      <td>0.489252</td>\n",
       "      <td>-0.621863</td>\n",
       "      <td>-0.630209</td>\n",
       "      <td>0.524654</td>\n",
       "    </tr>\n",
       "    <tr>\n",
       "      <th>min_spent</th>\n",
       "      <td>-0.015926</td>\n",
       "      <td>0.123699</td>\n",
       "      <td>0.458817</td>\n",
       "      <td>1.000000</td>\n",
       "      <td>-0.187085</td>\n",
       "      <td>0.193696</td>\n",
       "      <td>-0.014493</td>\n",
       "      <td>0.017665</td>\n",
       "      <td>0.023856</td>\n",
       "      <td>-0.018470</td>\n",
       "    </tr>\n",
       "    <tr>\n",
       "      <th>n_orders</th>\n",
       "      <td>0.569494</td>\n",
       "      <td>0.303588</td>\n",
       "      <td>0.120991</td>\n",
       "      <td>-0.187085</td>\n",
       "      <td>1.000000</td>\n",
       "      <td>-0.442301</td>\n",
       "      <td>0.596804</td>\n",
       "      <td>-0.017432</td>\n",
       "      <td>-0.035714</td>\n",
       "      <td>0.567133</td>\n",
       "    </tr>\n",
       "    <tr>\n",
       "      <th>time_between_orders</th>\n",
       "      <td>-0.246144</td>\n",
       "      <td>-0.205007</td>\n",
       "      <td>-0.120127</td>\n",
       "      <td>0.193696</td>\n",
       "      <td>-0.442301</td>\n",
       "      <td>1.000000</td>\n",
       "      <td>-0.251269</td>\n",
       "      <td>-0.008421</td>\n",
       "      <td>0.000399</td>\n",
       "      <td>-0.243406</td>\n",
       "    </tr>\n",
       "    <tr>\n",
       "      <th>total_items</th>\n",
       "      <td>0.851517</td>\n",
       "      <td>0.679515</td>\n",
       "      <td>0.489252</td>\n",
       "      <td>-0.014493</td>\n",
       "      <td>0.596804</td>\n",
       "      <td>-0.251269</td>\n",
       "      <td>1.000000</td>\n",
       "      <td>-0.213729</td>\n",
       "      <td>-0.224313</td>\n",
       "      <td>0.867498</td>\n",
       "    </tr>\n",
       "    <tr>\n",
       "      <th>total_items_returned</th>\n",
       "      <td>-0.026760</td>\n",
       "      <td>-0.516829</td>\n",
       "      <td>-0.621863</td>\n",
       "      <td>0.017665</td>\n",
       "      <td>-0.017432</td>\n",
       "      <td>-0.008421</td>\n",
       "      <td>-0.213729</td>\n",
       "      <td>1.000000</td>\n",
       "      <td>0.977110</td>\n",
       "      <td>-0.138010</td>\n",
       "    </tr>\n",
       "    <tr>\n",
       "      <th>total_refunded</th>\n",
       "      <td>-0.041862</td>\n",
       "      <td>-0.527861</td>\n",
       "      <td>-0.630209</td>\n",
       "      <td>0.023856</td>\n",
       "      <td>-0.035714</td>\n",
       "      <td>0.000399</td>\n",
       "      <td>-0.224313</td>\n",
       "      <td>0.977110</td>\n",
       "      <td>1.000000</td>\n",
       "      <td>-0.155555</td>\n",
       "    </tr>\n",
       "    <tr>\n",
       "      <th>total_spent</th>\n",
       "      <td>0.993473</td>\n",
       "      <td>0.743715</td>\n",
       "      <td>0.524654</td>\n",
       "      <td>-0.018470</td>\n",
       "      <td>0.567133</td>\n",
       "      <td>-0.243406</td>\n",
       "      <td>0.867498</td>\n",
       "      <td>-0.138010</td>\n",
       "      <td>-0.155555</td>\n",
       "      <td>1.000000</td>\n",
       "    </tr>\n",
       "  </tbody>\n",
       "</table>\n",
       "</div>"
      ],
      "text/plain": [
       "                       balance  max_spent  mean_spent  min_spent  n_orders  \\\n",
       "balance               1.000000   0.691267    0.457883  -0.015926  0.569494   \n",
       "max_spent             0.691267   1.000000    0.855598   0.123699  0.303588   \n",
       "mean_spent            0.457883   0.855598    1.000000   0.458817  0.120991   \n",
       "min_spent            -0.015926   0.123699    0.458817   1.000000 -0.187085   \n",
       "n_orders              0.569494   0.303588    0.120991  -0.187085  1.000000   \n",
       "time_between_orders  -0.246144  -0.205007   -0.120127   0.193696 -0.442301   \n",
       "total_items           0.851517   0.679515    0.489252  -0.014493  0.596804   \n",
       "total_items_returned -0.026760  -0.516829   -0.621863   0.017665 -0.017432   \n",
       "total_refunded       -0.041862  -0.527861   -0.630209   0.023856 -0.035714   \n",
       "total_spent           0.993473   0.743715    0.524654  -0.018470  0.567133   \n",
       "\n",
       "                      time_between_orders  total_items  total_items_returned  \\\n",
       "balance                         -0.246144     0.851517             -0.026760   \n",
       "max_spent                       -0.205007     0.679515             -0.516829   \n",
       "mean_spent                      -0.120127     0.489252             -0.621863   \n",
       "min_spent                        0.193696    -0.014493              0.017665   \n",
       "n_orders                        -0.442301     0.596804             -0.017432   \n",
       "time_between_orders              1.000000    -0.251269             -0.008421   \n",
       "total_items                     -0.251269     1.000000             -0.213729   \n",
       "total_items_returned            -0.008421    -0.213729              1.000000   \n",
       "total_refunded                   0.000399    -0.224313              0.977110   \n",
       "total_spent                     -0.243406     0.867498             -0.138010   \n",
       "\n",
       "                      total_refunded  total_spent  \n",
       "balance                    -0.041862     0.993473  \n",
       "max_spent                  -0.527861     0.743715  \n",
       "mean_spent                 -0.630209     0.524654  \n",
       "min_spent                   0.023856    -0.018470  \n",
       "n_orders                   -0.035714     0.567133  \n",
       "time_between_orders         0.000399    -0.243406  \n",
       "total_items                -0.224313     0.867498  \n",
       "total_items_returned        0.977110    -0.138010  \n",
       "total_refunded              1.000000    -0.155555  \n",
       "total_spent                -0.155555     1.000000  "
      ]
     },
     "execution_count": 7,
     "metadata": {},
     "output_type": "execute_result"
    }
   ],
   "source": [
    "customers.corr()\n"
   ]
  },
  {
   "cell_type": "markdown",
   "metadata": {},
   "source": [
    "To visualise the degree of correlation between variables, you can use a heatmap (also from `seaborn`, use the `heatmap` method and pass it the correlation matrix calculated in the previous exercise, also set center option to 0). "
   ]
  },
  {
   "cell_type": "code",
   "execution_count": 14,
   "metadata": {},
   "outputs": [
    {
     "data": {
      "text/plain": [
       "<matplotlib.axes._subplots.AxesSubplot at 0x1e2ad2f4b70>"
      ]
     },
     "execution_count": 14,
     "metadata": {},
     "output_type": "execute_result"
    },
    {
     "data": {
      "image/png": "[encoded data removed]",
      "text/plain": [
       "<Figure size 432x288 with 2 Axes>"
      ]
     },
     "metadata": {
      "needs_background": "light"
     },
     "output_type": "display_data"
    }
   ],
   "source": [
    "sns.heatmap(customers.corr(),cmap = \"Blues\", center=0)\n"
   ]
  }
 ],
 "metadata": {
  "kernelspec": {
   "display_name": "Python 3",
   "language": "python",
   "name": "python3"
  },
  "language_info": {
   "codemirror_mode": {
    "name": "ipython",
    "version": 3
   },
   "file_extension": ".py",
   "mimetype": "text/x-python",
   "name": "python",
   "nbconvert_exporter": "python",
   "pygments_lexer": "ipython3",
   "version": "3.7.1"
  }
 },
 "nbformat": 4,
 "nbformat_minor": 1
}
